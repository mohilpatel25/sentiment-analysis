{
 "cells": [
  {
   "cell_type": "code",
   "execution_count": 1,
   "metadata": {
    "execution": {
     "iopub.execute_input": "2020-09-30T13:33:56.798413Z",
     "iopub.status.busy": "2020-09-30T13:33:56.797547Z",
     "iopub.status.idle": "2020-09-30T13:33:56.801068Z",
     "shell.execute_reply": "2020-09-30T13:33:56.800402Z"
    },
    "id": "-hC-b8HYrUjy",
    "papermill": {
     "duration": 0.023075,
     "end_time": "2020-09-30T13:33:56.801180",
     "exception": false,
     "start_time": "2020-09-30T13:33:56.778105",
     "status": "completed"
    },
    "tags": []
   },
   "outputs": [],
   "source": [
    "# from google.colab import drive\n",
    "# drive.mount('/content/drive')"
   ]
  },
  {
   "cell_type": "code",
   "execution_count": 2,
   "metadata": {
    "execution": {
     "iopub.execute_input": "2020-09-30T13:33:56.834666Z",
     "iopub.status.busy": "2020-09-30T13:33:56.833868Z",
     "iopub.status.idle": "2020-09-30T13:33:56.836343Z",
     "shell.execute_reply": "2020-09-30T13:33:56.836878Z"
    },
    "id": "Az-Ddud5r3ef",
    "papermill": {
     "duration": 0.021002,
     "end_time": "2020-09-30T13:33:56.836989",
     "exception": false,
     "start_time": "2020-09-30T13:33:56.815987",
     "status": "completed"
    },
    "tags": []
   },
   "outputs": [],
   "source": [
    "#! mkdir ~/.kaggle\n",
    "#! cp kaggle.json ~/.kaggle/\n",
    "#! chmod 600 ~/.kaggle/kaggle.json\n",
    "#! kaggle datasets list\n",
    "#! kaggle datasets download -d kazanova/sentiment140\n",
    "#! unzip sentiment140.zip\n",
    "#! cp tweets.csv  '/content/drive/My Drive/datasets/nlp'"
   ]
  },
  {
   "cell_type": "code",
   "execution_count": 3,
   "metadata": {
    "_cell_guid": "79c7e3d0-c299-4dcb-8224-4455121ee9b0",
    "_uuid": "d629ff2d2480ee46fbb7e2d37f6b5fab8052498a",
    "execution": {
     "iopub.execute_input": "2020-09-30T13:33:56.872502Z",
     "iopub.status.busy": "2020-09-30T13:33:56.871778Z",
     "iopub.status.idle": "2020-09-30T13:34:04.211554Z",
     "shell.execute_reply": "2020-09-30T13:34:04.212198Z"
    },
    "id": "cB_RieNfrIQc",
    "outputId": "35e76754-39b4-497d-f60a-60f5cb8b5491",
    "papermill": {
     "duration": 7.360283,
     "end_time": "2020-09-30T13:34:04.212400",
     "exception": false,
     "start_time": "2020-09-30T13:33:56.852117",
     "status": "completed"
    },
    "tags": []
   },
   "outputs": [
    {
     "name": "stdout",
     "output_type": "stream",
     "text": [
      "[nltk_data] Downloading package stopwords to /usr/share/nltk_data...\n",
      "[nltk_data]   Package stopwords is already up-to-date!\n"
     ]
    }
   ],
   "source": [
    "import tensorflow as tf\n",
    "import matplotlib.pyplot as plt\n",
    "import pandas as pd\n",
    "import numpy as np\n",
    "\n",
    "\n",
    "import nltk \n",
    "nltk.download('stopwords')\n",
    "from nltk.corpus import stopwords\n",
    "from nltk.stem import SnowballStemmer\n",
    "\n",
    "from sklearn.model_selection import train_test_split\n",
    "from sklearn.preprocessing import LabelEncoder\n",
    "\n",
    "import re"
   ]
  },
  {
   "cell_type": "markdown",
   "metadata": {
    "id": "qWfui-o3rIQg",
    "papermill": {
     "duration": 0.015653,
     "end_time": "2020-09-30T13:34:04.244719",
     "exception": false,
     "start_time": "2020-09-30T13:34:04.229066",
     "status": "completed"
    },
    "tags": []
   },
   "source": [
    "#  Dataset Preprocessing"
   ]
  },
  {
   "cell_type": "code",
   "execution_count": 4,
   "metadata": {
    "execution": {
     "iopub.execute_input": "2020-09-30T13:34:04.290242Z",
     "iopub.status.busy": "2020-09-30T13:34:04.289573Z",
     "iopub.status.idle": "2020-09-30T13:34:10.848120Z",
     "shell.execute_reply": "2020-09-30T13:34:10.849012Z"
    },
    "id": "19Vb_EeDrIQh",
    "outputId": "6b2a049a-402c-44f1-a4cd-fe940ce54be6",
    "papermill": {
     "duration": 6.587527,
     "end_time": "2020-09-30T13:34:10.849160",
     "exception": false,
     "start_time": "2020-09-30T13:34:04.261633",
     "status": "completed"
    },
    "tags": []
   },
   "outputs": [
    {
     "data": {
      "text/html": [
       "<div>\n",
       "<style scoped>\n",
       "    .dataframe tbody tr th:only-of-type {\n",
       "        vertical-align: middle;\n",
       "    }\n",
       "\n",
       "    .dataframe tbody tr th {\n",
       "        vertical-align: top;\n",
       "    }\n",
       "\n",
       "    .dataframe thead th {\n",
       "        text-align: right;\n",
       "    }\n",
       "</style>\n",
       "<table border=\"1\" class=\"dataframe\">\n",
       "  <thead>\n",
       "    <tr style=\"text-align: right;\">\n",
       "      <th></th>\n",
       "      <th>text</th>\n",
       "      <th>sentiment_pos</th>\n",
       "      <th>sentiment_neg</th>\n",
       "    </tr>\n",
       "  </thead>\n",
       "  <tbody>\n",
       "    <tr>\n",
       "      <th>0</th>\n",
       "      <td>is upset that he can't update his Facebook by ...</td>\n",
       "      <td>0</td>\n",
       "      <td>1</td>\n",
       "    </tr>\n",
       "    <tr>\n",
       "      <th>1</th>\n",
       "      <td>@Kenichan I dived many times for the ball. Man...</td>\n",
       "      <td>0</td>\n",
       "      <td>1</td>\n",
       "    </tr>\n",
       "    <tr>\n",
       "      <th>2</th>\n",
       "      <td>my whole body feels itchy and like its on fire</td>\n",
       "      <td>0</td>\n",
       "      <td>1</td>\n",
       "    </tr>\n",
       "    <tr>\n",
       "      <th>3</th>\n",
       "      <td>@nationwideclass no, it's not behaving at all....</td>\n",
       "      <td>0</td>\n",
       "      <td>1</td>\n",
       "    </tr>\n",
       "    <tr>\n",
       "      <th>4</th>\n",
       "      <td>@Kwesidei not the whole crew</td>\n",
       "      <td>0</td>\n",
       "      <td>1</td>\n",
       "    </tr>\n",
       "  </tbody>\n",
       "</table>\n",
       "</div>"
      ],
      "text/plain": [
       "                                                text  sentiment_pos  \\\n",
       "0  is upset that he can't update his Facebook by ...              0   \n",
       "1  @Kenichan I dived many times for the ball. Man...              0   \n",
       "2    my whole body feels itchy and like its on fire               0   \n",
       "3  @nationwideclass no, it's not behaving at all....              0   \n",
       "4                      @Kwesidei not the whole crew               0   \n",
       "\n",
       "   sentiment_neg  \n",
       "0              1  \n",
       "1              1  \n",
       "2              1  \n",
       "3              1  \n",
       "4              1  "
      ]
     },
     "execution_count": 4,
     "metadata": {},
     "output_type": "execute_result"
    }
   ],
   "source": [
    "df = pd.read_csv('../input/sentiment140/training.1600000.processed.noemoticon.csv', encoding = 'latin')\n",
    "df.columns = ['sentiment', 'id', 'date', 'query', 'user_id', 'text']\n",
    "df['sentiment_pos'] = df['sentiment'].apply(lambda x: 1 if x==4 else 0)\n",
    "df['sentiment_neg'] = df['sentiment'].apply(lambda x: 1 if x==0 else 0)\n",
    "df = df.drop(['id', 'date', 'query', 'user_id','sentiment'], axis=1)\n",
    "df.head()"
   ]
  },
  {
   "cell_type": "code",
   "execution_count": 5,
   "metadata": {
    "execution": {
     "iopub.execute_input": "2020-09-30T13:34:10.889782Z",
     "iopub.status.busy": "2020-09-30T13:34:10.888625Z",
     "iopub.status.idle": "2020-09-30T13:34:10.897377Z",
     "shell.execute_reply": "2020-09-30T13:34:10.896878Z"
    },
    "id": "3ZF3-aozrIQm",
    "outputId": "c430327b-89d0-4ae3-a9c8-1290694d5eb9",
    "papermill": {
     "duration": 0.031392,
     "end_time": "2020-09-30T13:34:10.897482",
     "exception": false,
     "start_time": "2020-09-30T13:34:10.866090",
     "status": "completed"
    },
    "tags": []
   },
   "outputs": [
    {
     "data": {
      "text/html": [
       "<div>\n",
       "<style scoped>\n",
       "    .dataframe tbody tr th:only-of-type {\n",
       "        vertical-align: middle;\n",
       "    }\n",
       "\n",
       "    .dataframe tbody tr th {\n",
       "        vertical-align: top;\n",
       "    }\n",
       "\n",
       "    .dataframe thead th {\n",
       "        text-align: right;\n",
       "    }\n",
       "</style>\n",
       "<table border=\"1\" class=\"dataframe\">\n",
       "  <thead>\n",
       "    <tr style=\"text-align: right;\">\n",
       "      <th></th>\n",
       "      <th>text</th>\n",
       "      <th>sentiment_pos</th>\n",
       "      <th>sentiment_neg</th>\n",
       "    </tr>\n",
       "  </thead>\n",
       "  <tbody>\n",
       "    <tr>\n",
       "      <th>1599994</th>\n",
       "      <td>Just woke up. Having no school is the best fee...</td>\n",
       "      <td>1</td>\n",
       "      <td>0</td>\n",
       "    </tr>\n",
       "    <tr>\n",
       "      <th>1599995</th>\n",
       "      <td>TheWDB.com - Very cool to hear old Walt interv...</td>\n",
       "      <td>1</td>\n",
       "      <td>0</td>\n",
       "    </tr>\n",
       "    <tr>\n",
       "      <th>1599996</th>\n",
       "      <td>Are you ready for your MoJo Makeover? Ask me f...</td>\n",
       "      <td>1</td>\n",
       "      <td>0</td>\n",
       "    </tr>\n",
       "    <tr>\n",
       "      <th>1599997</th>\n",
       "      <td>Happy 38th Birthday to my boo of alll time!!! ...</td>\n",
       "      <td>1</td>\n",
       "      <td>0</td>\n",
       "    </tr>\n",
       "    <tr>\n",
       "      <th>1599998</th>\n",
       "      <td>happy #charitytuesday @theNSPCC @SparksCharity...</td>\n",
       "      <td>1</td>\n",
       "      <td>0</td>\n",
       "    </tr>\n",
       "  </tbody>\n",
       "</table>\n",
       "</div>"
      ],
      "text/plain": [
       "                                                      text  sentiment_pos  \\\n",
       "1599994  Just woke up. Having no school is the best fee...              1   \n",
       "1599995  TheWDB.com - Very cool to hear old Walt interv...              1   \n",
       "1599996  Are you ready for your MoJo Makeover? Ask me f...              1   \n",
       "1599997  Happy 38th Birthday to my boo of alll time!!! ...              1   \n",
       "1599998  happy #charitytuesday @theNSPCC @SparksCharity...              1   \n",
       "\n",
       "         sentiment_neg  \n",
       "1599994              0  \n",
       "1599995              0  \n",
       "1599996              0  \n",
       "1599997              0  \n",
       "1599998              0  "
      ]
     },
     "execution_count": 5,
     "metadata": {},
     "output_type": "execute_result"
    }
   ],
   "source": [
    "df.tail()"
   ]
  },
  {
   "cell_type": "code",
   "execution_count": 6,
   "metadata": {
    "execution": {
     "iopub.execute_input": "2020-09-30T13:34:10.939119Z",
     "iopub.status.busy": "2020-09-30T13:34:10.937957Z",
     "iopub.status.idle": "2020-09-30T13:34:11.240115Z",
     "shell.execute_reply": "2020-09-30T13:34:11.240727Z"
    },
    "id": "wkL5Neg3rIQo",
    "outputId": "afe86d9b-7096-435c-9b3b-1268b07cf13b",
    "papermill": {
     "duration": 0.326016,
     "end_time": "2020-09-30T13:34:11.240878",
     "exception": false,
     "start_time": "2020-09-30T13:34:10.914862",
     "status": "completed"
    },
    "tags": []
   },
   "outputs": [
    {
     "data": {
      "text/plain": [
       "Text(0.5, 1.0, 'Data Distribution')"
      ]
     },
     "execution_count": 6,
     "metadata": {},
     "output_type": "execute_result"
    },
    {
     "data": {
      "image/png": "[encoded data removed]",
      "text/plain": [
       "<Figure size 576x288 with 1 Axes>"
      ]
     },
     "metadata": {
      "needs_background": "light"
     },
     "output_type": "display_data"
    }
   ],
   "source": [
    "df = df.sample(frac = 0.25)\n",
    "val_count = df.sentiment_pos.value_counts()\n",
    "\n",
    "plt.figure(figsize=(8,4))\n",
    "plt.bar(['Negative','Positive'], val_count.values)\n",
    "plt.title(\"Data Distribution\")"
   ]
  },
  {
   "cell_type": "code",
   "execution_count": 7,
   "metadata": {
    "execution": {
     "iopub.execute_input": "2020-09-30T13:34:11.285809Z",
     "iopub.status.busy": "2020-09-30T13:34:11.285065Z",
     "iopub.status.idle": "2020-09-30T13:34:11.288088Z",
     "shell.execute_reply": "2020-09-30T13:34:11.287623Z"
    },
    "id": "yZkT5SqMrIQv",
    "papermill": {
     "duration": 0.027979,
     "end_time": "2020-09-30T13:34:11.288179",
     "exception": false,
     "start_time": "2020-09-30T13:34:11.260200",
     "status": "completed"
    },
    "tags": []
   },
   "outputs": [],
   "source": [
    "def preprocess(text, stem=False):\n",
    "  text = re.sub(\"@\\S+|https?:\\S+|http?:\\S|[^A-Za-z0-9]+\", ' ', str(text).lower()).strip()\n",
    "  stop_words = stopwords.words('english')\n",
    "  stemmer = SnowballStemmer('english')\n",
    "  tokens = []\n",
    "  for token in text.split():\n",
    "    if token not in stop_words:\n",
    "      if stem:\n",
    "        tokens.append(stemmer.stem(token))\n",
    "      else:\n",
    "        tokens.append(token)\n",
    "  return \" \".join(tokens)"
   ]
  },
  {
   "cell_type": "code",
   "execution_count": 8,
   "metadata": {
    "execution": {
     "iopub.execute_input": "2020-09-30T13:34:11.328564Z",
     "iopub.status.busy": "2020-09-30T13:34:11.327720Z",
     "iopub.status.idle": "2020-09-30T13:35:31.932743Z",
     "shell.execute_reply": "2020-09-30T13:35:31.931702Z"
    },
    "id": "b-y2BnHvrIQy",
    "papermill": {
     "duration": 80.626844,
     "end_time": "2020-09-30T13:35:31.932895",
     "exception": false,
     "start_time": "2020-09-30T13:34:11.306051",
     "status": "completed"
    },
    "tags": []
   },
   "outputs": [],
   "source": [
    "df.text = df.text.apply(lambda x: preprocess(x))"
   ]
  },
  {
   "cell_type": "code",
   "execution_count": 9,
   "metadata": {
    "execution": {
     "iopub.execute_input": "2020-09-30T13:35:31.975677Z",
     "iopub.status.busy": "2020-09-30T13:35:31.974996Z",
     "iopub.status.idle": "2020-09-30T13:35:31.978521Z",
     "shell.execute_reply": "2020-09-30T13:35:31.979050Z"
    },
    "id": "kxa0UCYZ6y3q",
    "outputId": "cbc8278b-87e0-476d-9b3f-79980680a18e",
    "papermill": {
     "duration": 0.027377,
     "end_time": "2020-09-30T13:35:31.979172",
     "exception": false,
     "start_time": "2020-09-30T13:35:31.951795",
     "status": "completed"
    },
    "tags": []
   },
   "outputs": [
    {
     "name": "stdout",
     "output_type": "stream",
     "text": [
      "Index(['text', 'sentiment_pos', 'sentiment_neg'], dtype='object')\n"
     ]
    }
   ],
   "source": [
    "print(df.columns)"
   ]
  },
  {
   "cell_type": "markdown",
   "metadata": {
    "id": "efCM_ww3rIQ8",
    "papermill": {
     "duration": 0.018962,
     "end_time": "2020-09-30T13:35:32.017175",
     "exception": false,
     "start_time": "2020-09-30T13:35:31.998213",
     "status": "completed"
    },
    "tags": []
   },
   "source": [
    "# Tokenization"
   ]
  },
  {
   "cell_type": "code",
   "execution_count": 10,
   "metadata": {
    "execution": {
     "iopub.execute_input": "2020-09-30T13:35:32.060375Z",
     "iopub.status.busy": "2020-09-30T13:35:32.059621Z",
     "iopub.status.idle": "2020-09-30T13:35:32.062119Z",
     "shell.execute_reply": "2020-09-30T13:35:32.062562Z"
    },
    "id": "_UYTKvvB4tFa",
    "papermill": {
     "duration": 0.02734,
     "end_time": "2020-09-30T13:35:32.062695",
     "exception": false,
     "start_time": "2020-09-30T13:35:32.035355",
     "status": "completed"
    },
    "tags": []
   },
   "outputs": [],
   "source": [
    "x = df.text\n",
    "y = df[['sentiment_pos', 'sentiment_neg']]"
   ]
  },
  {
   "cell_type": "code",
   "execution_count": 11,
   "metadata": {
    "execution": {
     "iopub.execute_input": "2020-09-30T13:35:32.106553Z",
     "iopub.status.busy": "2020-09-30T13:35:32.105735Z",
     "iopub.status.idle": "2020-09-30T13:35:32.111572Z",
     "shell.execute_reply": "2020-09-30T13:35:32.112065Z"
    },
    "id": "MdY2RWiK6gtd",
    "outputId": "2d9b698a-ffeb-476d-cbc7-8f918b06a62f",
    "papermill": {
     "duration": 0.030526,
     "end_time": "2020-09-30T13:35:32.112172",
     "exception": false,
     "start_time": "2020-09-30T13:35:32.081646",
     "status": "completed"
    },
    "tags": []
   },
   "outputs": [
    {
     "name": "stdout",
     "output_type": "stream",
     "text": [
      "960475          song stuck head quot shut amp let goooo quot\n",
      "1292813       fashoo try best make really wanna support guys\n",
      "698540     need get dressed jeremy going away party today...\n",
      "93973                      craving spam misubis kbbq bwahhhh\n",
      "1235083    way home woot watching fall boy vids alot than...\n",
      "                                 ...                        \n",
      "767489                    got test like 2 hours microbiology\n",
      "611915        waited hour town hall dreading tomorrow muchly\n",
      "1281211    jw level 4 admin work love staying choir pract...\n",
      "636192                   forced turn friends mom spoil sport\n",
      "590933     messing anymore man mom always told talk politics\n",
      "Name: text, Length: 400000, dtype: object\n"
     ]
    }
   ],
   "source": [
    "print(x)"
   ]
  },
  {
   "cell_type": "code",
   "execution_count": 12,
   "metadata": {
    "execution": {
     "iopub.execute_input": "2020-09-30T13:35:32.179417Z",
     "iopub.status.busy": "2020-09-30T13:35:32.164022Z",
     "iopub.status.idle": "2020-09-30T13:35:49.157404Z",
     "shell.execute_reply": "2020-09-30T13:35:49.156663Z"
    },
    "id": "gTxikfvo2Kmy",
    "papermill": {
     "duration": 17.026084,
     "end_time": "2020-09-30T13:35:49.157522",
     "exception": false,
     "start_time": "2020-09-30T13:35:32.131438",
     "status": "completed"
    },
    "tags": []
   },
   "outputs": [],
   "source": [
    "from sklearn.feature_extraction.text import TfidfVectorizer\n",
    "\n",
    "vectorizer = TfidfVectorizer(max_features=2500)\n",
    "tfidf = vectorizer.fit(x)\n",
    "processed_features = tfidf.transform(x).toarray()"
   ]
  },
  {
   "cell_type": "code",
   "execution_count": 13,
   "metadata": {
    "execution": {
     "iopub.execute_input": "2020-09-30T13:35:49.247630Z",
     "iopub.status.busy": "2020-09-30T13:35:49.246549Z",
     "iopub.status.idle": "2020-09-30T13:35:49.255139Z",
     "shell.execute_reply": "2020-09-30T13:35:49.254561Z"
    },
    "papermill": {
     "duration": 0.077663,
     "end_time": "2020-09-30T13:35:49.255247",
     "exception": false,
     "start_time": "2020-09-30T13:35:49.177584",
     "status": "completed"
    },
    "tags": []
   },
   "outputs": [],
   "source": [
    "import pickle\n",
    "pickle.dump(tfidf, open(\"vectorizer.pickle\", \"wb\"))"
   ]
  },
  {
   "cell_type": "code",
   "execution_count": 14,
   "metadata": {
    "execution": {
     "iopub.execute_input": "2020-09-30T13:35:49.300788Z",
     "iopub.status.busy": "2020-09-30T13:35:49.300025Z",
     "iopub.status.idle": "2020-09-30T13:35:49.304530Z",
     "shell.execute_reply": "2020-09-30T13:35:49.305289Z"
    },
    "id": "Dw67Rbf16Azc",
    "papermill": {
     "duration": 0.029202,
     "end_time": "2020-09-30T13:35:49.305456",
     "exception": false,
     "start_time": "2020-09-30T13:35:49.276254",
     "status": "completed"
    },
    "tags": []
   },
   "outputs": [
    {
     "name": "stdout",
     "output_type": "stream",
     "text": [
      "(400000, 1, 2500)\n"
     ]
    }
   ],
   "source": [
    "processed_features = processed_features.reshape(processed_features.shape[0],1,processed_features.shape[1])\n",
    "print(processed_features.shape)"
   ]
  },
  {
   "cell_type": "code",
   "execution_count": 15,
   "metadata": {
    "execution": {
     "iopub.execute_input": "2020-09-30T13:35:49.351887Z",
     "iopub.status.busy": "2020-09-30T13:35:49.351127Z",
     "iopub.status.idle": "2020-09-30T13:35:49.353784Z",
     "shell.execute_reply": "2020-09-30T13:35:49.354343Z"
    },
    "papermill": {
     "duration": 0.027801,
     "end_time": "2020-09-30T13:35:49.354460",
     "exception": false,
     "start_time": "2020-09-30T13:35:49.326659",
     "status": "completed"
    },
    "tags": []
   },
   "outputs": [],
   "source": [
    "from tensorflow.keras.layers import Conv1D, Bidirectional, LSTM, Dense, Input, Dropout\n",
    "from tensorflow.keras.layers import SpatialDropout1D\n",
    "from tensorflow.keras.callbacks import ModelCheckpoint"
   ]
  },
  {
   "cell_type": "code",
   "execution_count": 16,
   "metadata": {
    "execution": {
     "iopub.execute_input": "2020-09-30T13:35:49.402523Z",
     "iopub.status.busy": "2020-09-30T13:35:49.401820Z",
     "iopub.status.idle": "2020-09-30T13:35:53.267383Z",
     "shell.execute_reply": "2020-09-30T13:35:53.266603Z"
    },
    "papermill": {
     "duration": 3.892634,
     "end_time": "2020-09-30T13:35:53.267566",
     "exception": false,
     "start_time": "2020-09-30T13:35:49.374932",
     "status": "completed"
    },
    "tags": []
   },
   "outputs": [],
   "source": [
    "inp = Input(shape=(1,processed_features.shape[2]))\n",
    "x = Bidirectional(LSTM(64, dropout=0.2, recurrent_dropout=0.2))(inp)\n",
    "x = Dense(512, activation='relu')(x)\n",
    "x = Dropout(0.5)(x)\n",
    "x = Dense(512, activation='relu')(x)\n",
    "outputs = Dense(2, activation='softmax')(x)\n",
    "model = tf.keras.Model(inp, outputs)"
   ]
  },
  {
   "cell_type": "code",
   "execution_count": 17,
   "metadata": {
    "execution": {
     "iopub.execute_input": "2020-09-30T13:35:53.321615Z",
     "iopub.status.busy": "2020-09-30T13:35:53.320658Z",
     "iopub.status.idle": "2020-09-30T13:35:53.327499Z",
     "shell.execute_reply": "2020-09-30T13:35:53.327006Z"
    },
    "papermill": {
     "duration": 0.039046,
     "end_time": "2020-09-30T13:35:53.327607",
     "exception": false,
     "start_time": "2020-09-30T13:35:53.288561",
     "status": "completed"
    },
    "tags": []
   },
   "outputs": [],
   "source": [
    "from tensorflow.keras.optimizers import Adam\n",
    "from tensorflow.keras.callbacks import ReduceLROnPlateau\n",
    "\n",
    "model.compile(optimizer=Adam(), loss='categorical_crossentropy', metrics=['accuracy'])\n",
    "ReduceLROnPlateau = ReduceLROnPlateau(factor=0.1, min_lr = 0.01, monitor = 'val_loss', verbose = 1)"
   ]
  },
  {
   "cell_type": "code",
   "execution_count": 18,
   "metadata": {
    "execution": {
     "iopub.execute_input": "2020-09-30T13:35:53.373112Z",
     "iopub.status.busy": "2020-09-30T13:35:53.372489Z",
     "iopub.status.idle": "2020-09-30T13:40:57.097085Z",
     "shell.execute_reply": "2020-09-30T13:40:57.096203Z"
    },
    "papermill": {
     "duration": 303.749317,
     "end_time": "2020-09-30T13:40:57.097255",
     "exception": false,
     "start_time": "2020-09-30T13:35:53.347938",
     "status": "completed"
    },
    "tags": []
   },
   "outputs": [
    {
     "name": "stdout",
     "output_type": "stream",
     "text": [
      "Epoch 1/50\n",
      "625/625 [==============================] - 7s 11ms/step - loss: 0.5274 - accuracy: 0.7329 - val_loss: 0.4962 - val_accuracy: 0.7565\n",
      "Epoch 2/50\n",
      "625/625 [==============================] - 6s 10ms/step - loss: 0.5054 - accuracy: 0.7494 - val_loss: 0.4929 - val_accuracy: 0.7582\n",
      "Epoch 3/50\n",
      "625/625 [==============================] - 5s 9ms/step - loss: 0.5010 - accuracy: 0.7522 - val_loss: 0.4922 - val_accuracy: 0.7573\n",
      "Epoch 4/50\n",
      "625/625 [==============================] - 6s 9ms/step - loss: 0.4968 - accuracy: 0.7544 - val_loss: 0.4910 - val_accuracy: 0.7592\n",
      "Epoch 5/50\n",
      "625/625 [==============================] - 6s 9ms/step - loss: 0.4932 - accuracy: 0.7571 - val_loss: 0.4889 - val_accuracy: 0.7605\n",
      "Epoch 6/50\n",
      "625/625 [==============================] - 6s 9ms/step - loss: 0.4892 - accuracy: 0.7598 - val_loss: 0.4895 - val_accuracy: 0.7597\n",
      "Epoch 7/50\n",
      "625/625 [==============================] - 6s 9ms/step - loss: 0.4850 - accuracy: 0.7627 - val_loss: 0.4874 - val_accuracy: 0.7610\n",
      "Epoch 8/50\n",
      "625/625 [==============================] - 6s 10ms/step - loss: 0.4812 - accuracy: 0.7658 - val_loss: 0.4866 - val_accuracy: 0.7609\n",
      "Epoch 9/50\n",
      "625/625 [==============================] - 7s 11ms/step - loss: 0.4760 - accuracy: 0.7686 - val_loss: 0.4872 - val_accuracy: 0.7614\n",
      "Epoch 10/50\n",
      "625/625 [==============================] - 6s 9ms/step - loss: 0.4713 - accuracy: 0.7722 - val_loss: 0.4890 - val_accuracy: 0.7600\n",
      "Epoch 11/50\n",
      "625/625 [==============================] - 6s 9ms/step - loss: 0.4657 - accuracy: 0.7762 - val_loss: 0.4889 - val_accuracy: 0.7605\n",
      "Epoch 12/50\n",
      "625/625 [==============================] - 6s 9ms/step - loss: 0.4602 - accuracy: 0.7794 - val_loss: 0.4898 - val_accuracy: 0.7599\n",
      "Epoch 13/50\n",
      "625/625 [==============================] - 6s 10ms/step - loss: 0.4543 - accuracy: 0.7834 - val_loss: 0.4901 - val_accuracy: 0.7598\n",
      "Epoch 14/50\n",
      "625/625 [==============================] - 6s 9ms/step - loss: 0.4477 - accuracy: 0.7875 - val_loss: 0.4956 - val_accuracy: 0.7588\n",
      "Epoch 15/50\n",
      "625/625 [==============================] - 6s 9ms/step - loss: 0.4421 - accuracy: 0.7910 - val_loss: 0.4949 - val_accuracy: 0.7590\n",
      "Epoch 16/50\n",
      "625/625 [==============================] - 5s 9ms/step - loss: 0.4355 - accuracy: 0.7950 - val_loss: 0.4992 - val_accuracy: 0.7596\n",
      "Epoch 17/50\n",
      "625/625 [==============================] - 6s 9ms/step - loss: 0.4291 - accuracy: 0.7990 - val_loss: 0.5013 - val_accuracy: 0.7577\n",
      "Epoch 18/50\n",
      "625/625 [==============================] - 5s 9ms/step - loss: 0.4234 - accuracy: 0.8024 - val_loss: 0.5082 - val_accuracy: 0.7569\n",
      "Epoch 19/50\n",
      "625/625 [==============================] - 7s 10ms/step - loss: 0.4164 - accuracy: 0.8063 - val_loss: 0.5134 - val_accuracy: 0.7531\n",
      "Epoch 20/50\n",
      "625/625 [==============================] - 6s 10ms/step - loss: 0.4091 - accuracy: 0.8104 - val_loss: 0.5178 - val_accuracy: 0.7542\n",
      "Epoch 21/50\n",
      "625/625 [==============================] - 6s 9ms/step - loss: 0.4026 - accuracy: 0.8141 - val_loss: 0.5248 - val_accuracy: 0.7541\n",
      "Epoch 22/50\n",
      "625/625 [==============================] - 5s 9ms/step - loss: 0.3955 - accuracy: 0.8173 - val_loss: 0.5287 - val_accuracy: 0.7527\n",
      "Epoch 23/50\n",
      "625/625 [==============================] - 6s 9ms/step - loss: 0.3890 - accuracy: 0.8214 - val_loss: 0.5334 - val_accuracy: 0.7513\n",
      "Epoch 24/50\n",
      "625/625 [==============================] - 6s 9ms/step - loss: 0.3815 - accuracy: 0.8250 - val_loss: 0.5368 - val_accuracy: 0.7535\n",
      "Epoch 25/50\n",
      "625/625 [==============================] - 6s 10ms/step - loss: 0.3740 - accuracy: 0.8288 - val_loss: 0.5470 - val_accuracy: 0.7504\n",
      "Epoch 26/50\n",
      "625/625 [==============================] - 6s 9ms/step - loss: 0.3668 - accuracy: 0.8322 - val_loss: 0.5574 - val_accuracy: 0.7504\n",
      "Epoch 27/50\n",
      "625/625 [==============================] - 5s 9ms/step - loss: 0.3593 - accuracy: 0.8362 - val_loss: 0.5569 - val_accuracy: 0.7480\n",
      "Epoch 28/50\n",
      "625/625 [==============================] - 6s 9ms/step - loss: 0.3530 - accuracy: 0.8394 - val_loss: 0.5668 - val_accuracy: 0.7487\n",
      "Epoch 29/50\n",
      "625/625 [==============================] - 6s 10ms/step - loss: 0.3455 - accuracy: 0.8431 - val_loss: 0.5714 - val_accuracy: 0.7492\n",
      "Epoch 30/50\n",
      "625/625 [==============================] - 7s 11ms/step - loss: 0.3386 - accuracy: 0.8471 - val_loss: 0.5927 - val_accuracy: 0.7430\n",
      "Epoch 31/50\n",
      "625/625 [==============================] - 6s 9ms/step - loss: 0.3310 - accuracy: 0.8504 - val_loss: 0.5973 - val_accuracy: 0.7460\n",
      "Epoch 32/50\n",
      "625/625 [==============================] - 6s 9ms/step - loss: 0.3235 - accuracy: 0.8547 - val_loss: 0.6133 - val_accuracy: 0.7448\n",
      "Epoch 33/50\n",
      "625/625 [==============================] - 5s 9ms/step - loss: 0.3180 - accuracy: 0.8571 - val_loss: 0.6175 - val_accuracy: 0.7433\n",
      "Epoch 34/50\n",
      "625/625 [==============================] - 6s 9ms/step - loss: 0.3116 - accuracy: 0.8600 - val_loss: 0.6320 - val_accuracy: 0.7443\n",
      "Epoch 35/50\n",
      "625/625 [==============================] - 6s 9ms/step - loss: 0.3048 - accuracy: 0.8633 - val_loss: 0.6265 - val_accuracy: 0.7414\n",
      "Epoch 36/50\n",
      "625/625 [==============================] - 6s 10ms/step - loss: 0.2990 - accuracy: 0.8663 - val_loss: 0.6437 - val_accuracy: 0.7423\n",
      "Epoch 37/50\n",
      "625/625 [==============================] - 6s 9ms/step - loss: 0.2935 - accuracy: 0.8687 - val_loss: 0.6585 - val_accuracy: 0.7417\n",
      "Epoch 38/50\n",
      "625/625 [==============================] - 6s 9ms/step - loss: 0.2878 - accuracy: 0.8714 - val_loss: 0.6634 - val_accuracy: 0.7394\n",
      "Epoch 39/50\n",
      "625/625 [==============================] - 6s 9ms/step - loss: 0.2827 - accuracy: 0.8739 - val_loss: 0.6834 - val_accuracy: 0.7396\n",
      "Epoch 40/50\n",
      "625/625 [==============================] - 7s 11ms/step - loss: 0.2778 - accuracy: 0.8767 - val_loss: 0.6813 - val_accuracy: 0.7370\n",
      "Epoch 41/50\n",
      "625/625 [==============================] - 6s 10ms/step - loss: 0.2723 - accuracy: 0.8791 - val_loss: 0.7065 - val_accuracy: 0.7378\n",
      "Epoch 42/50\n",
      "625/625 [==============================] - 6s 9ms/step - loss: 0.2687 - accuracy: 0.8805 - val_loss: 0.7054 - val_accuracy: 0.7383\n",
      "Epoch 43/50\n",
      "625/625 [==============================] - 6s 9ms/step - loss: 0.2633 - accuracy: 0.8827 - val_loss: 0.7026 - val_accuracy: 0.7404\n",
      "Epoch 44/50\n",
      "625/625 [==============================] - 5s 9ms/step - loss: 0.2596 - accuracy: 0.8846 - val_loss: 0.7174 - val_accuracy: 0.7384\n",
      "Epoch 45/50\n",
      "625/625 [==============================] - 6s 9ms/step - loss: 0.2555 - accuracy: 0.8866 - val_loss: 0.7267 - val_accuracy: 0.7414\n",
      "Epoch 46/50\n",
      "625/625 [==============================] - 5s 9ms/step - loss: 0.2509 - accuracy: 0.8890 - val_loss: 0.7502 - val_accuracy: 0.7371\n",
      "Epoch 47/50\n",
      "625/625 [==============================] - 6s 10ms/step - loss: 0.2486 - accuracy: 0.8896 - val_loss: 0.7497 - val_accuracy: 0.7395\n",
      "Epoch 48/50\n",
      "625/625 [==============================] - 6s 9ms/step - loss: 0.2453 - accuracy: 0.8917 - val_loss: 0.7509 - val_accuracy: 0.7354\n",
      "Epoch 49/50\n",
      "625/625 [==============================] - 6s 9ms/step - loss: 0.2416 - accuracy: 0.8926 - val_loss: 0.7783 - val_accuracy: 0.7370\n",
      "Epoch 50/50\n",
      "625/625 [==============================] - 6s 10ms/step - loss: 0.2376 - accuracy: 0.8947 - val_loss: 0.7765 - val_accuracy: 0.7354\n"
     ]
    }
   ],
   "source": [
    "history = model.fit(processed_features, y, batch_size=512, epochs=50, validation_split=0.2, callbacks=[ReduceLROnPlateau])"
   ]
  },
  {
   "cell_type": "code",
   "execution_count": 19,
   "metadata": {
    "execution": {
     "iopub.execute_input": "2020-09-30T13:41:00.958551Z",
     "iopub.status.busy": "2020-09-30T13:41:00.957742Z",
     "iopub.status.idle": "2020-09-30T13:41:01.028851Z",
     "shell.execute_reply": "2020-09-30T13:41:01.028231Z"
    },
    "id": "B-Ti8pmyrIRd",
    "papermill": {
     "duration": 1.899033,
     "end_time": "2020-09-30T13:41:01.028968",
     "exception": false,
     "start_time": "2020-09-30T13:40:59.129935",
     "status": "completed"
    },
    "tags": []
   },
   "outputs": [],
   "source": [
    "model.save('model.h5')"
   ]
  },
  {
   "cell_type": "code",
   "execution_count": 20,
   "metadata": {
    "execution": {
     "iopub.execute_input": "2020-09-30T13:41:04.426665Z",
     "iopub.status.busy": "2020-09-30T13:41:04.425940Z",
     "iopub.status.idle": "2020-09-30T13:41:04.796203Z",
     "shell.execute_reply": "2020-09-30T13:41:04.795660Z"
    },
    "papermill": {
     "duration": 2.021664,
     "end_time": "2020-09-30T13:41:04.796310",
     "exception": false,
     "start_time": "2020-09-30T13:41:02.774646",
     "status": "completed"
    },
    "tags": []
   },
   "outputs": [
    {
     "ename": "StdinNotImplementedError",
     "evalue": "raw_input was called, but this frontend does not support input requests.",
     "output_type": "error",
     "traceback": [
      "\u001b[0;31m---------------------------------------------------------------------------\u001b[0m",
      "\u001b[0;31mStdinNotImplementedError\u001b[0m                  Traceback (most recent call last)",
      "\u001b[0;32m<ipython-input-20-68193fd8f757>\u001b[0m in \u001b[0;36m<module>\u001b[0;34m\u001b[0m\n\u001b[0;32m----> 1\u001b[0;31m \u001b[0minput_text\u001b[0m \u001b[0;34m=\u001b[0m \u001b[0minput\u001b[0m\u001b[0;34m(\u001b[0m\u001b[0;34m)\u001b[0m\u001b[0;34m\u001b[0m\u001b[0;34m\u001b[0m\u001b[0m\n\u001b[0m\u001b[1;32m      2\u001b[0m \u001b[0minput_text\u001b[0m \u001b[0;34m=\u001b[0m \u001b[0mpreprocess\u001b[0m\u001b[0;34m(\u001b[0m\u001b[0minput_text\u001b[0m\u001b[0;34m)\u001b[0m\u001b[0;34m\u001b[0m\u001b[0;34m\u001b[0m\u001b[0m\n\u001b[1;32m      3\u001b[0m \u001b[0mvect\u001b[0m \u001b[0;34m=\u001b[0m \u001b[0mpickle\u001b[0m\u001b[0;34m.\u001b[0m\u001b[0mload\u001b[0m\u001b[0;34m(\u001b[0m\u001b[0mopen\u001b[0m\u001b[0;34m(\u001b[0m\u001b[0;34m\"vectorizer.pickle\"\u001b[0m\u001b[0;34m,\u001b[0m\u001b[0;34m'rb'\u001b[0m\u001b[0;34m)\u001b[0m\u001b[0;34m)\u001b[0m\u001b[0;34m\u001b[0m\u001b[0;34m\u001b[0m\u001b[0m\n\u001b[1;32m      4\u001b[0m \u001b[0minput_text\u001b[0m \u001b[0;34m=\u001b[0m \u001b[0mvect\u001b[0m\u001b[0;34m.\u001b[0m\u001b[0mtransform\u001b[0m\u001b[0;34m(\u001b[0m\u001b[0;34m[\u001b[0m\u001b[0minput_text\u001b[0m\u001b[0;34m]\u001b[0m\u001b[0;34m)\u001b[0m\u001b[0;34m.\u001b[0m\u001b[0mtoarray\u001b[0m\u001b[0;34m(\u001b[0m\u001b[0;34m)\u001b[0m\u001b[0;34m.\u001b[0m\u001b[0mreshape\u001b[0m\u001b[0;34m(\u001b[0m\u001b[0;36m1\u001b[0m\u001b[0;34m,\u001b[0m\u001b[0;36m1\u001b[0m\u001b[0;34m,\u001b[0m\u001b[0;36m2500\u001b[0m\u001b[0;34m)\u001b[0m\u001b[0;34m\u001b[0m\u001b[0;34m\u001b[0m\u001b[0m\n\u001b[1;32m      5\u001b[0m \u001b[0mmod\u001b[0m \u001b[0;34m=\u001b[0m \u001b[0mtf\u001b[0m\u001b[0;34m.\u001b[0m\u001b[0mkeras\u001b[0m\u001b[0;34m.\u001b[0m\u001b[0mmodels\u001b[0m\u001b[0;34m.\u001b[0m\u001b[0mload_model\u001b[0m\u001b[0;34m(\u001b[0m\u001b[0;34m'model.h5'\u001b[0m\u001b[0;34m)\u001b[0m\u001b[0;34m\u001b[0m\u001b[0;34m\u001b[0m\u001b[0m\n",
      "\u001b[0;32m/opt/conda/lib/python3.7/site-packages/ipykernel/kernelbase.py\u001b[0m in \u001b[0;36mraw_input\u001b[0;34m(self, prompt)\u001b[0m\n\u001b[1;32m    853\u001b[0m         \u001b[0;32mif\u001b[0m \u001b[0;32mnot\u001b[0m \u001b[0mself\u001b[0m\u001b[0;34m.\u001b[0m\u001b[0m_allow_stdin\u001b[0m\u001b[0;34m:\u001b[0m\u001b[0;34m\u001b[0m\u001b[0;34m\u001b[0m\u001b[0m\n\u001b[1;32m    854\u001b[0m             raise StdinNotImplementedError(\n\u001b[0;32m--> 855\u001b[0;31m                 \u001b[0;34m\"raw_input was called, but this frontend does not support input requests.\"\u001b[0m\u001b[0;34m\u001b[0m\u001b[0;34m\u001b[0m\u001b[0m\n\u001b[0m\u001b[1;32m    856\u001b[0m             )\n\u001b[1;32m    857\u001b[0m         return self._input_request(str(prompt),\n",
      "\u001b[0;31mStdinNotImplementedError\u001b[0m: raw_input was called, but this frontend does not support input requests."
     ]
    }
   ],
   "source": [
    "input_text = input()\n",
    "input_text = preprocess(input_text)\n",
    "vect = pickle.load(open(\"vectorizer.pickle\",'rb'))\n",
    "input_text = vect.transform([input_text]).toarray().reshape(1,1,2500)\n",
    "mod = tf.keras.models.load_model('model.h5')\n",
    "out = mod.predict(input_text)\n",
    "plt.bar(['Positive','Negative'],out[0])"
   ]
  }
 ],
 "metadata": {
  "kernelspec": {
   "display_name": "Python 3",
   "language": "python",
   "name": "python3"
  },
  "language_info": {
   "codemirror_mode": {
    "name": "ipython",
    "version": 3
   },
   "file_extension": ".py",
   "mimetype": "text/x-python",
   "name": "python",
   "nbconvert_exporter": "python",
   "pygments_lexer": "ipython3",
   "version": "3.7.6"
  },
  "papermill": {
   "duration": 436.259004,
   "end_time": "2020-09-30T13:41:08.547545",
   "environment_variables": {},
   "exception": null,
   "input_path": "__notebook__.ipynb",
   "output_path": "__notebook__.ipynb",
   "parameters": {},
   "start_time": "2020-09-30T13:33:52.288541",
   "version": "2.1.0"
  }
 },
 "nbformat": 4,
 "nbformat_minor": 4
}
