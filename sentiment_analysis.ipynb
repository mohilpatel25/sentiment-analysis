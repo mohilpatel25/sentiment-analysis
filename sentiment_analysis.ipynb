{
  "cells": [
    {
      "cell_type": "code",
      "execution_count": null,
      "metadata": {
        "id": "giZVC89clDyT"
      },
      "outputs": [],
      "source": [
        "! kaggle datasets download -p sentiment140 --unzip -d kazanova/sentiment140"
      ]
    },
    {
      "cell_type": "code",
      "execution_count": null,
      "metadata": {
        "_cell_guid": "79c7e3d0-c299-4dcb-8224-4455121ee9b0",
        "_uuid": "d629ff2d2480ee46fbb7e2d37f6b5fab8052498a",
        "execution": {
          "iopub.execute_input": "2020-09-30T13:33:56.872502Z",
          "iopub.status.busy": "2020-09-30T13:33:56.871778Z",
          "iopub.status.idle": "2020-09-30T13:34:04.211554Z",
          "shell.execute_reply": "2020-09-30T13:34:04.212198Z"
        },
        "id": "cB_RieNfrIQc",
        "papermill": {
          "duration": 7.360283,
          "end_time": "2020-09-30T13:34:04.212400",
          "exception": false,
          "start_time": "2020-09-30T13:33:56.852117",
          "status": "completed"
        },
        "tags": []
      },
      "outputs": [],
      "source": [
        "import re\n",
        "import pickle\n",
        "import pandas as pd\n",
        "import numpy as np\n",
        "\n",
        "import html\n",
        "import nltk\n",
        "from nltk.corpus import stopwords\n",
        "from sklearn.model_selection import train_test_split\n",
        "from sklearn.feature_extraction.text import TfidfVectorizer\n",
        "import tensorflow as tf\n",
        "from tensorflow.keras import layers"
      ]
    },
    {
      "cell_type": "code",
      "execution_count": null,
      "metadata": {
        "id": "74p7HpStlDyU"
      },
      "outputs": [],
      "source": [
        "nltk.download(\"stopwords\")"
      ]
    },
    {
      "cell_type": "markdown",
      "metadata": {
        "id": "qWfui-o3rIQg",
        "papermill": {
          "duration": 0.015653,
          "end_time": "2020-09-30T13:34:04.244719",
          "exception": false,
          "start_time": "2020-09-30T13:34:04.229066",
          "status": "completed"
        },
        "tags": []
      },
      "source": [
        "###  Dataset"
      ]
    },
    {
      "cell_type": "code",
      "execution_count": null,
      "metadata": {
        "execution": {
          "iopub.execute_input": "2020-09-30T13:34:04.290242Z",
          "iopub.status.busy": "2020-09-30T13:34:04.289573Z",
          "iopub.status.idle": "2020-09-30T13:34:10.848120Z",
          "shell.execute_reply": "2020-09-30T13:34:10.849012Z"
        },
        "id": "19Vb_EeDrIQh",
        "papermill": {
          "duration": 6.587527,
          "end_time": "2020-09-30T13:34:10.849160",
          "exception": false,
          "start_time": "2020-09-30T13:34:04.261633",
          "status": "completed"
        },
        "tags": []
      },
      "outputs": [],
      "source": [
        "df = pd.read_csv(\n",
        "    \"sentiment140/training.1600000.processed.noemoticon.csv\",\n",
        "    names=[\"sentiment\", \"id\", \"date\", \"query\", \"user_id\", \"text\"],\n",
        "    encoding=\"latin\",\n",
        ")\n",
        "df[\"sentiment\"] = df[\"sentiment\"].map({0: 0, 4: 1})  # 0 = Negative, 1 = Postitive\n",
        "df = df[[\"text\", \"sentiment\"]]\n",
        "df.head()"
      ]
    },
    {
      "cell_type": "markdown",
      "metadata": {
        "id": "eTiawN3glDyW"
      },
      "source": [
        "### Preprocess"
      ]
    },
    {
      "cell_type": "code",
      "execution_count": null,
      "metadata": {
        "id": "N68rIFoqlDyW"
      },
      "outputs": [],
      "source": [
        "print(df.text[df.text.str.startswith(\"@\")].iloc[0])  # Mentions/tags, regex - @\\S+\n",
        "print(df.text[df.text.str.contains(\"http\")].iloc[-1])  # URL, regex - https?:\\S+\n",
        "print(df.text[df.text.str.contains(\"&\")].iloc[0])  # HTML character like &quot;\n",
        "print(\n",
        "    df.text[df.text.str.contains(\"!\")].iloc[0]\n",
        ")  # anything other than letters and numbers, regex - [^A-Za-z0-9]+"
      ]
    },
    {
      "cell_type": "code",
      "execution_count": null,
      "metadata": {
        "execution": {
          "iopub.execute_input": "2020-09-30T13:34:11.285809Z",
          "iopub.status.busy": "2020-09-30T13:34:11.285065Z",
          "iopub.status.idle": "2020-09-30T13:34:11.288088Z",
          "shell.execute_reply": "2020-09-30T13:34:11.287623Z"
        },
        "id": "yZkT5SqMrIQv",
        "papermill": {
          "duration": 0.027979,
          "end_time": "2020-09-30T13:34:11.288179",
          "exception": false,
          "start_time": "2020-09-30T13:34:11.260200",
          "status": "completed"
        },
        "tags": []
      },
      "outputs": [],
      "source": [
        "def preprocess(text):\n",
        "    text = text.lower()  # lower the text\n",
        "    text = html.unescape(text)  # parse html entitities\n",
        "    text = re.sub(\n",
        "        r\"@\\S+|https?:\\S+|[^A-Za-z0-9]+\", \" \", text\n",
        "    ).strip()  # remove the unwanted text\n",
        "    stop_words = stopwords.words(\"english\")\n",
        "    tokens = [token for token in text.split() if token not in stop_words]\n",
        "    text = \" \".join(tokens)\n",
        "    return text"
      ]
    },
    {
      "cell_type": "code",
      "execution_count": null,
      "metadata": {
        "id": "PTbfMPiglDyX"
      },
      "outputs": [],
      "source": [
        "text = df.text.sample(1).iloc[0]\n",
        "print(text)\n",
        "print(preprocess(text))"
      ]
    },
    {
      "cell_type": "markdown",
      "metadata": {
        "id": "BtNoKdbXlDyX"
      },
      "source": [
        "### Distribution"
      ]
    },
    {
      "cell_type": "code",
      "execution_count": null,
      "metadata": {
        "id": "dOEz7CAhlDyX"
      },
      "outputs": [],
      "source": [
        "df.sentiment.value_counts()"
      ]
    },
    {
      "cell_type": "code",
      "execution_count": null,
      "metadata": {
        "id": "Atm7V8BhlDyY"
      },
      "outputs": [],
      "source": [
        "data_df = df.sample(frac=0.05)  # Select a fraction of data\n",
        "data_df.sentiment.value_counts()"
      ]
    },
    {
      "cell_type": "code",
      "execution_count": null,
      "metadata": {
        "execution": {
          "iopub.execute_input": "2020-09-30T13:34:11.328564Z",
          "iopub.status.busy": "2020-09-30T13:34:11.327720Z",
          "iopub.status.idle": "2020-09-30T13:35:31.932743Z",
          "shell.execute_reply": "2020-09-30T13:35:31.931702Z"
        },
        "id": "b-y2BnHvrIQy",
        "papermill": {
          "duration": 80.626844,
          "end_time": "2020-09-30T13:35:31.932895",
          "exception": false,
          "start_time": "2020-09-30T13:34:11.306051",
          "status": "completed"
        },
        "tags": []
      },
      "outputs": [],
      "source": [
        "data_df[\"processed_text\"] = data_df[\"text\"].apply(preprocess)"
      ]
    },
    {
      "cell_type": "code",
      "execution_count": null,
      "metadata": {
        "id": "yPZYbgnYlDyY"
      },
      "outputs": [],
      "source": [
        "X_train, X_val, Y_train, Y_val = train_test_split(\n",
        "    data_df.text.tolist(), data_df.sentiment.tolist(), test_size=0.3, random_state=42\n",
        ")\n",
        "np.unique(Y_train, return_counts=True), np.unique(Y_val, return_counts=True)"
      ]
    },
    {
      "cell_type": "markdown",
      "metadata": {
        "id": "efCM_ww3rIQ8",
        "papermill": {
          "duration": 0.018962,
          "end_time": "2020-09-30T13:35:32.017175",
          "exception": false,
          "start_time": "2020-09-30T13:35:31.998213",
          "status": "completed"
        },
        "tags": []
      },
      "source": [
        "### Tokenization"
      ]
    },
    {
      "cell_type": "code",
      "execution_count": null,
      "metadata": {
        "id": "4Rniij4klDyY"
      },
      "outputs": [],
      "source": [
        "NUM_FEATURES = 2048"
      ]
    },
    {
      "cell_type": "code",
      "execution_count": null,
      "metadata": {
        "id": "cRjg51-IlDyY"
      },
      "outputs": [],
      "source": [
        "vectorizer = TfidfVectorizer(max_features=NUM_FEATURES)"
      ]
    },
    {
      "cell_type": "code",
      "execution_count": null,
      "metadata": {
        "id": "jSZUmzFSlDyZ"
      },
      "outputs": [],
      "source": [
        "vectorizer.fit(X_train)\n",
        "\n",
        "pickle.dump(\n",
        "    vectorizer, open(\"vectorizer.pickle\", \"wb\")\n",
        ")  # save vectorizer to use for inference"
      ]
    },
    {
      "cell_type": "markdown",
      "metadata": {
        "id": "Yqsi9ALylDyZ"
      },
      "source": [
        "### Data Preparation"
      ]
    },
    {
      "cell_type": "code",
      "execution_count": null,
      "metadata": {
        "execution": {
          "iopub.execute_input": "2020-09-30T13:35:49.300788Z",
          "iopub.status.busy": "2020-09-30T13:35:49.300025Z",
          "iopub.status.idle": "2020-09-30T13:35:49.304530Z",
          "shell.execute_reply": "2020-09-30T13:35:49.305289Z"
        },
        "id": "Dw67Rbf16Azc",
        "papermill": {
          "duration": 0.029202,
          "end_time": "2020-09-30T13:35:49.305456",
          "exception": false,
          "start_time": "2020-09-30T13:35:49.276254",
          "status": "completed"
        },
        "tags": []
      },
      "outputs": [],
      "source": [
        "def generator(features, labels):\n",
        "    def _generator():\n",
        "        for vector, label in zip(features, labels):\n",
        "            yield vector.toarray(), label\n",
        "\n",
        "    return _generator\n",
        "\n",
        "\n",
        "def get_dataset(features, labels, batch_size=128, mode=\"val\"):\n",
        "    dataset = tf.data.Dataset.from_generator(\n",
        "        generator(features, labels),\n",
        "        output_signature=(\n",
        "            tf.TensorSpec(shape=(1, NUM_FEATURES), dtype=tf.float32),\n",
        "            tf.TensorSpec(shape=(), dtype=tf.int32),\n",
        "        ),\n",
        "    )\n",
        "    if mode == \"train\":\n",
        "        dataset = dataset.shuffle(2 * batch_size)\n",
        "    dataset = dataset.batch(batch_size, drop_remainder=True, num_parallel_calls=tf.data.AUTOTUNE)\n",
        "    dataset = dataset.prefetch(tf.data.AUTOTUNE)\n",
        "    return dataset"
      ]
    },
    {
      "cell_type": "code",
      "execution_count": null,
      "metadata": {
        "id": "eTbuJ7gPlDyZ"
      },
      "outputs": [],
      "source": [
        "X_train_vectors = vectorizer.transform(X_train)\n",
        "X_val_vectors = vectorizer.transform(X_val)"
      ]
    },
    {
      "cell_type": "code",
      "execution_count": null,
      "metadata": {
        "id": "8gsx1yOIlDyZ"
      },
      "outputs": [],
      "source": [
        "BATCH_SIZE = 512\n",
        "train_dataset = get_dataset(X_train_vectors, Y_train, BATCH_SIZE, mode=\"train\")\n",
        "val_dataset = get_dataset(X_val_vectors, Y_train, BATCH_SIZE, mode=\"val\")"
      ]
    },
    {
      "cell_type": "markdown",
      "metadata": {
        "id": "issfBU8ulDyZ"
      },
      "source": [
        "### Model"
      ]
    },
    {
      "cell_type": "code",
      "execution_count": null,
      "metadata": {
        "execution": {
          "iopub.execute_input": "2020-09-30T13:35:49.402523Z",
          "iopub.status.busy": "2020-09-30T13:35:49.401820Z",
          "iopub.status.idle": "2020-09-30T13:35:53.267383Z",
          "shell.execute_reply": "2020-09-30T13:35:53.266603Z"
        },
        "id": "kfoqu_trqTz0",
        "papermill": {
          "duration": 3.892634,
          "end_time": "2020-09-30T13:35:53.267566",
          "exception": false,
          "start_time": "2020-09-30T13:35:49.374932",
          "status": "completed"
        },
        "tags": []
      },
      "outputs": [],
      "source": [
        "input_layer = layers.Input(shape=(1, NUM_FEATURES))\n",
        "x = layers.Bidirectional(layers.LSTM(64, dropout=0.2))(input_layer)\n",
        "x = layers.Dense(512, activation=\"relu\")(x)\n",
        "x = layers.Dropout(0.5)(x)\n",
        "x = layers.Dense(512, activation=\"relu\")(x)\n",
        "outputs = layers.Dense(1, activation=\"sigmoid\")(x)\n",
        "model = tf.keras.Model(input_layer, outputs)\n",
        "model.summary()"
      ]
    },
    {
      "cell_type": "code",
      "execution_count": null,
      "metadata": {
        "execution": {
          "iopub.execute_input": "2020-09-30T13:35:53.321615Z",
          "iopub.status.busy": "2020-09-30T13:35:53.320658Z",
          "iopub.status.idle": "2020-09-30T13:35:53.327499Z",
          "shell.execute_reply": "2020-09-30T13:35:53.327006Z"
        },
        "id": "fUtuev2NqTz4",
        "papermill": {
          "duration": 0.039046,
          "end_time": "2020-09-30T13:35:53.327607",
          "exception": false,
          "start_time": "2020-09-30T13:35:53.288561",
          "status": "completed"
        },
        "tags": []
      },
      "outputs": [],
      "source": [
        "model.compile(optimizer=\"adam\", loss=\"binary_crossentropy\", metrics=[\"accuracy\"])"
      ]
    },
    {
      "cell_type": "markdown",
      "metadata": {
        "id": "tSfZcrFJlDyc"
      },
      "source": [
        "### Train"
      ]
    },
    {
      "cell_type": "code",
      "execution_count": null,
      "metadata": {
        "execution": {
          "iopub.execute_input": "2020-09-30T13:35:53.373112Z",
          "iopub.status.busy": "2020-09-30T13:35:53.372489Z",
          "iopub.status.idle": "2020-09-30T13:40:57.097085Z",
          "shell.execute_reply": "2020-09-30T13:40:57.096203Z"
        },
        "id": "Zg88xmcZqTz8",
        "papermill": {
          "duration": 303.749317,
          "end_time": "2020-09-30T13:40:57.097255",
          "exception": false,
          "start_time": "2020-09-30T13:35:53.347938",
          "status": "completed"
        },
        "tags": []
      },
      "outputs": [],
      "source": [
        "history = model.fit(\n",
        "    train_dataset,\n",
        "    validation_data=val_dataset,\n",
        "    epochs=25,\n",
        ")"
      ]
    },
    {
      "cell_type": "code",
      "execution_count": null,
      "metadata": {
        "execution": {
          "iopub.execute_input": "2020-09-30T13:41:00.958551Z",
          "iopub.status.busy": "2020-09-30T13:41:00.957742Z",
          "iopub.status.idle": "2020-09-30T13:41:01.028851Z",
          "shell.execute_reply": "2020-09-30T13:41:01.028231Z"
        },
        "id": "B-Ti8pmyrIRd",
        "papermill": {
          "duration": 1.899033,
          "end_time": "2020-09-30T13:41:01.028968",
          "exception": false,
          "start_time": "2020-09-30T13:40:59.129935",
          "status": "completed"
        },
        "tags": []
      },
      "outputs": [],
      "source": [
        "model.save(\"model.keras\")  # save the model"
      ]
    }
  ],
  "metadata": {
    "accelerator": "GPU",
    "colab": {
      "gpuType": "T4",
      "private_outputs": true,
      "provenance": []
    },
    "kernelspec": {
      "display_name": "Python 3",
      "name": "python3"
    },
    "language_info": {
      "codemirror_mode": {
        "name": "ipython",
        "version": 3
      },
      "file_extension": ".py",
      "mimetype": "text/x-python",
      "name": "python",
      "nbconvert_exporter": "python",
      "pygments_lexer": "ipython3",
      "version": "3.10.12"
    },
    "papermill": {
      "duration": 436.259004,
      "end_time": "2020-09-30T13:41:08.547545",
      "environment_variables": {},
      "exception": null,
      "input_path": "__notebook__.ipynb",
      "output_path": "__notebook__.ipynb",
      "parameters": {},
      "start_time": "2020-09-30T13:33:52.288541",
      "version": "2.1.0"
    }
  },
  "nbformat": 4,
  "nbformat_minor": 0
}
